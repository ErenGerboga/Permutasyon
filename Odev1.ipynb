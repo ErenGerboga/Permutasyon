{
  "nbformat": 4,
  "nbformat_minor": 0,
  "metadata": {
    "colab": {
      "name": "Odev1.ipynb",
      "provenance": [],
      "collapsed_sections": [],
      "authorship_tag": "ABX9TyM1W/MaXKvYVU1BDQ26Rs7G",
      "include_colab_link": true
    },
    "kernelspec": {
      "name": "python3",
      "display_name": "Python 3"
    }
  },
  "cells": [
    {
      "cell_type": "markdown",
      "metadata": {
        "id": "view-in-github",
        "colab_type": "text"
      },
      "source": [
        "<a href=\"https://colab.research.google.com/github/ErenGerboga/Permutasyon/blob/master/Odev1.ipynb\" target=\"_parent\"><img src=\"https://colab.research.google.com/assets/colab-badge.svg\" alt=\"Open In Colab\"/></a>"
      ]
    },
    {
      "cell_type": "code",
      "metadata": {
        "id": "-QzQx--i9U8g",
        "colab_type": "code",
        "colab": {
          "base_uri": "https://localhost:8080/",
          "height": 85
        },
        "outputId": "0f2043a0-4aa6-43c3-d3dc-e8f444b688e8"
      },
      "source": [
        "# -*- coding: utf-8 -*-\n",
        "\"\"\"\n",
        "Created on Tue Mar 24 16:52:19 2020\n",
        "\n",
        "@author: ereng\n",
        "\"\"\"\n",
        "import numpy as np\n",
        "import math\n",
        "import matplotlib.pyplot as plt\n",
        "from pylab import*\n",
        "\n",
        "\n",
        "#Faktoriyel\n",
        "def factorial(n):\n",
        "    return 1 if (n==1 or n==0) else n * factorial(n - 1); \n",
        "\n",
        "\n",
        "#Faktoriyel \n",
        "# Permutasyon\n",
        "#\n",
        "\n",
        "def Probablity_Hw1():\n",
        "    #A[]=1,2,3,4,5\n",
        "    Total_Element=5\n",
        "    # 4 basamaklı rakamları birbirinden farklı sayılar= P kümesi\n",
        "    # 1'in 4'ün solunda oldugu kume   => B\n",
        "    # 2'nin 4'ün sagında oldugu kume  => C \n",
        "    # BuC=? birlesim\n",
        "    P= factorial(Total_Element)\n",
        "    B=factorial(5)/factorial(2)\n",
        "    C=factorial(5)/factorial(2)\n",
        "\n",
        "    #D Kümesi iki kez sayılan sayıların kümesidir. \n",
        "    #Rakamları farklı 4 basamaklı 1'in 4'ün solunda olanlar + Rakamları farklı 4 basamaklı\n",
        "    #2'nin 4 ün sağında olduğu sayılar\n",
        "    D= factorial(5)/factorial(3)\n",
        "    Result= B+C-D\n",
        "    print(\"B= \",B,\"1'in 4'ün solunda olan sayılar kümesi\")\n",
        "    print(\"C= \",C,\"2'nin 4'ün sagında olan sayılar kümesi\")\n",
        "    print(\"D= \",D,\"1'in solda,2'nin sagda olan sayılar kümesi\")\n",
        "    return Result\n",
        "print(\"Toplam= \",Probablity_Hw1(),\"Sadece 1'in 4'ün solunda olduğu sayılar ve Sadece 2'nin 4'ün sağında oldugu sayılar ve her ikisininde birlikte oldugu sayılar\")\n",
        "\n",
        "# Permutasyon"
      ],
      "execution_count": 4,
      "outputs": [
        {
          "output_type": "stream",
          "text": [
            "B=  60.0 1'in 4'ün solunda olan sayılar kümesi\n",
            "C=  60.0 2'nin 4'ün sagında olan sayılar kümesi\n",
            "D=  20.0 1'in solda,2'nin sagda olan sayılar kümesi\n",
            "Toplam=  100.0 Sadece 1'in 4'ün solunda olduğu sayılar ve Sadece 2'nin 4'ün sağında oldugu sayılar ve her ikisininde birlikte oldugu sayılar\n"
          ],
          "name": "stdout"
        }
      ]
    },
    {
      "cell_type": "markdown",
      "metadata": {
        "id": "arpsz6ATZw9K",
        "colab_type": "text"
      },
      "source": [
        ""
      ]
    },
    {
      "cell_type": "markdown",
      "metadata": {
        "id": "8K_QlUAb9gSJ",
        "colab_type": "text"
      },
      "source": [
        "PERMUTASYON\n",
        "Ayrık Sistemler için İleri Olasılık\n",
        "\n",
        "Problem= A= {1,2,3,4,5} verilen A' kümesi elemanları kullanılarak  4 basamaklı rakamları birbirinden farklı sayı yazılacaktır. Bu sayılar içerisinden 1'in 4'ün solunda olduğu durumlar kümesi B, 2'nin 4'ün sağında olduğu durumlar kümesi C dir. B U C =?\n",
        "\n",
        "Çözüm=  5 elemanlı A Kümesinden 4 basamaklı rakamları farklı sayılar kümesi= 5!\n",
        "1'in 4'ün solunda oldugu sayılar tüm olası sayıların yarısıdır.(B kümesi)\n",
        "2'nin 4'ün sağında olduğu sayılar tüm olası sayıların yarısıdır.(C kümesi)\n",
        "1'in 4'ün solunda ve 2'nin sağında olduğu sayıların kümesi (D) ve \n",
        "5!/3! dir.\n",
        "**Cevap= B+C-D Kümesidir.**\n",
        "\n",
        "\n",
        "\n",
        "\n",
        "\n",
        "\n",
        "\n",
        "\n",
        "\n",
        "\n",
        "\n",
        "\n"
      ]
    }
  ]
}